{
 "cells": [
  {
   "cell_type": "code",
   "execution_count": 1,
   "id": "874b8e0f-e7e4-4788-b424-624f6d7d5439",
   "metadata": {},
   "outputs": [
    {
     "name": "stdout",
     "output_type": "stream",
     "text": [
      "Requirement already satisfied: pandas in c:\\users\\chand\\desktop\\integra_soft\\integar_code_mvp\\dock\\integra\\hadoop\\jup\\lab\\lib\\site-packages (2.1.0)\n",
      "Requirement already satisfied: numpy>=1.23.2 in c:\\users\\chand\\desktop\\integra_soft\\integar_code_mvp\\dock\\integra\\hadoop\\jup\\lab\\lib\\site-packages (from pandas) (1.25.2)\n",
      "Requirement already satisfied: python-dateutil>=2.8.2 in c:\\users\\chand\\desktop\\integra_soft\\integar_code_mvp\\dock\\integra\\hadoop\\jup\\lab\\lib\\site-packages (from pandas) (2.8.2)\n",
      "Requirement already satisfied: pytz>=2020.1 in c:\\users\\chand\\desktop\\integra_soft\\integar_code_mvp\\dock\\integra\\hadoop\\jup\\lab\\lib\\site-packages (from pandas) (2023.3.post1)\n",
      "Requirement already satisfied: tzdata>=2022.1 in c:\\users\\chand\\desktop\\integra_soft\\integar_code_mvp\\dock\\integra\\hadoop\\jup\\lab\\lib\\site-packages (from pandas) (2023.3)\n",
      "Requirement already satisfied: six>=1.5 in c:\\users\\chand\\desktop\\integra_soft\\integar_code_mvp\\dock\\integra\\hadoop\\jup\\lab\\lib\\site-packages (from python-dateutil>=2.8.2->pandas) (1.16.0)\n"
     ]
    }
   ],
   "source": [
    "! pip install pandas \n",
    "import pandas as pd"
   ]
  },
  {
   "cell_type": "code",
   "execution_count": 9,
   "id": "2c302364-06b3-408d-bed4-af5bc764c3ad",
   "metadata": {},
   "outputs": [
    {
     "ename": "NameError",
     "evalue": "name 'null' is not defined",
     "output_type": "error",
     "traceback": [
      "\u001b[1;31m-----------------------------------------------------------------\u001b[0m",
      "\u001b[1;31mNameError\u001b[0m                       Traceback (most recent call last)",
      "Cell \u001b[1;32mIn[9], line 21\u001b[0m\n\u001b[0;32m      1\u001b[0m \u001b[38;5;28;01mfrom\u001b[39;00m \u001b[38;5;21;01mpandas\u001b[39;00m \u001b[38;5;28;01mimport\u001b[39;00m json_normalize\n\u001b[0;32m      3\u001b[0m \u001b[38;5;66;03m# Sample JSON data\u001b[39;00m\n\u001b[0;32m      4\u001b[0m data \u001b[38;5;241m=\u001b[39m     {\n\u001b[0;32m      5\u001b[0m     \u001b[38;5;124m\"\u001b[39m\u001b[38;5;124minputNode\u001b[39m\u001b[38;5;124m\"\u001b[39m: [\n\u001b[0;32m      6\u001b[0m         {\n\u001b[0;32m      7\u001b[0m         \u001b[38;5;124m\"\u001b[39m\u001b[38;5;124mnodeType\u001b[39m\u001b[38;5;124m\"\u001b[39m: \u001b[38;5;124m\"\u001b[39m\u001b[38;5;124mIN_SFTP\u001b[39m\u001b[38;5;124m\"\u001b[39m,\n\u001b[0;32m      8\u001b[0m         \u001b[38;5;124m\"\u001b[39m\u001b[38;5;124mnodeName\u001b[39m\u001b[38;5;124m\"\u001b[39m: \u001b[38;5;124m\"\u001b[39m\u001b[38;5;124mInvoiceFileDaily\u001b[39m\u001b[38;5;124m\"\u001b[39m,\n\u001b[0;32m      9\u001b[0m         \u001b[38;5;124m\"\u001b[39m\u001b[38;5;124mnodeID\u001b[39m\u001b[38;5;124m\"\u001b[39m: \u001b[38;5;124m\"\u001b[39m\u001b[38;5;124me991.e923.e2t\u001b[39m\u001b[38;5;124m\"\u001b[39m,\n\u001b[0;32m     10\u001b[0m         \u001b[38;5;124m\"\u001b[39m\u001b[38;5;124mfileFormat\u001b[39m\u001b[38;5;124m\"\u001b[39m: \u001b[38;5;124m\"\u001b[39m\u001b[38;5;124mcvs|tsv|json\u001b[39m\u001b[38;5;124m\"\u001b[39m,\n\u001b[0;32m     11\u001b[0m         \u001b[38;5;124m\"\u001b[39m\u001b[38;5;124mfilename\u001b[39m\u001b[38;5;124m\"\u001b[39m: \u001b[38;5;124m\"\u001b[39m\u001b[38;5;124mInvoiceDaily.csv\u001b[39m\u001b[38;5;124m\"\u001b[39m,\n\u001b[0;32m     12\u001b[0m         \u001b[38;5;124m\"\u001b[39m\u001b[38;5;124mfolder\u001b[39m\u001b[38;5;124m\"\u001b[39m: \u001b[38;5;124m\"\u001b[39m\u001b[38;5;124m/sftp/incoming\u001b[39m\u001b[38;5;124m\"\u001b[39m,\n\u001b[0;32m     13\u001b[0m         \u001b[38;5;124m\"\u001b[39m\u001b[38;5;124mconnectString\u001b[39m\u001b[38;5;124m\"\u001b[39m: {\n\u001b[0;32m     14\u001b[0m             \u001b[38;5;124m\"\u001b[39m\u001b[38;5;124mendPoint\u001b[39m\u001b[38;5;124m\"\u001b[39m: \u001b[38;5;124m\"\u001b[39m\u001b[38;5;124msftp://localhost\u001b[39m\u001b[38;5;124m\"\u001b[39m,\n\u001b[0;32m     15\u001b[0m             \u001b[38;5;124m\"\u001b[39m\u001b[38;5;124mport\u001b[39m\u001b[38;5;124m\"\u001b[39m: \u001b[38;5;124m\"\u001b[39m\u001b[38;5;124m2022\u001b[39m\u001b[38;5;124m\"\u001b[39m,\n\u001b[0;32m     16\u001b[0m             \u001b[38;5;124m\"\u001b[39m\u001b[38;5;124mvalutFlag\u001b[39m\u001b[38;5;124m\"\u001b[39m: \u001b[38;5;124m\"\u001b[39m\u001b[38;5;124mtrue|false\u001b[39m\u001b[38;5;124m\"\u001b[39m,\n\u001b[0;32m     17\u001b[0m             \u001b[38;5;124m\"\u001b[39m\u001b[38;5;124muserID\u001b[39m\u001b[38;5;124m\"\u001b[39m: \u001b[38;5;124m\"\u001b[39m\u001b[38;5;124mchandanId\u001b[39m\u001b[38;5;124m\"\u001b[39m,\n\u001b[0;32m     18\u001b[0m             \u001b[38;5;124m\"\u001b[39m\u001b[38;5;124mpasswd\u001b[39m\u001b[38;5;124m\"\u001b[39m: \u001b[38;5;124m\"\u001b[39m\u001b[38;5;124mbpt799\u001b[39m\u001b[38;5;124m\"\u001b[39m,\n\u001b[0;32m     19\u001b[0m             \u001b[38;5;124m\"\u001b[39m\u001b[38;5;124mconnName\u001b[39m\u001b[38;5;124m\"\u001b[39m: \u001b[38;5;124m\"\u001b[39m\u001b[38;5;124mContolCenterServer\u001b[39m\u001b[38;5;124m\"\u001b[39m\n\u001b[0;32m     20\u001b[0m         },\n\u001b[1;32m---> 21\u001b[0m         \u001b[38;5;124m\"\u001b[39m\u001b[38;5;124minSchema\u001b[39m\u001b[38;5;124m\"\u001b[39m: \u001b[43mnull\u001b[49m,\n\u001b[0;32m     22\u001b[0m         \u001b[38;5;124m\"\u001b[39m\u001b[38;5;124moutSchema\u001b[39m\u001b[38;5;124m\"\u001b[39m: [\n\u001b[0;32m     23\u001b[0m             {\n\u001b[0;32m     24\u001b[0m             \u001b[38;5;124m\"\u001b[39m\u001b[38;5;124mcolname\u001b[39m\u001b[38;5;124m\"\u001b[39m: \u001b[38;5;124m\"\u001b[39m\u001b[38;5;124minvoiceMonth\u001b[39m\u001b[38;5;124m\"\u001b[39m,\n\u001b[0;32m     25\u001b[0m             \u001b[38;5;124m\"\u001b[39m\u001b[38;5;124mdataType\u001b[39m\u001b[38;5;124m\"\u001b[39m: \u001b[38;5;124m\"\u001b[39m\u001b[38;5;124mString\u001b[39m\u001b[38;5;124m\"\u001b[39m,\n\u001b[0;32m     26\u001b[0m             \u001b[38;5;124m\"\u001b[39m\u001b[38;5;124mnullable\u001b[39m\u001b[38;5;124m\"\u001b[39m: false,\n\u001b[0;32m     27\u001b[0m             \u001b[38;5;124m\"\u001b[39m\u001b[38;5;124mmaxLene\u001b[39m\u001b[38;5;124m\"\u001b[39m: \u001b[38;5;124m\"\u001b[39m\u001b[38;5;124m\"\u001b[39m\n\u001b[0;32m     28\u001b[0m             },\n\u001b[0;32m     29\u001b[0m             {\n\u001b[0;32m     30\u001b[0m             \u001b[38;5;124m\"\u001b[39m\u001b[38;5;124mcolname\u001b[39m\u001b[38;5;124m\"\u001b[39m: \u001b[38;5;124m\"\u001b[39m\u001b[38;5;124minvoiceDate\u001b[39m\u001b[38;5;124m\"\u001b[39m,\n\u001b[0;32m     31\u001b[0m             \u001b[38;5;124m\"\u001b[39m\u001b[38;5;124mdataType\u001b[39m\u001b[38;5;124m\"\u001b[39m: \u001b[38;5;124m\"\u001b[39m\u001b[38;5;124mdate\u001b[39m\u001b[38;5;124m\"\u001b[39m,\n\u001b[0;32m     32\u001b[0m             \u001b[38;5;124m\"\u001b[39m\u001b[38;5;124mnullable\u001b[39m\u001b[38;5;124m\"\u001b[39m: true,\n\u001b[0;32m     33\u001b[0m             \u001b[38;5;124m\"\u001b[39m\u001b[38;5;124mmaxLene\u001b[39m\u001b[38;5;124m\"\u001b[39m: \u001b[38;5;124m\"\u001b[39m\u001b[38;5;124m\"\u001b[39m\n\u001b[0;32m     34\u001b[0m             }\n\u001b[0;32m     35\u001b[0m         ],\n\u001b[0;32m     36\u001b[0m         \u001b[38;5;124m\"\u001b[39m\u001b[38;5;124mnextRefs\u001b[39m\u001b[38;5;124m\"\u001b[39m: [\n\u001b[0;32m     37\u001b[0m             \u001b[38;5;124m\"\u001b[39m\u001b[38;5;124me991.e923.e2t\u001b[39m\u001b[38;5;124m\"\u001b[39m,\n\u001b[0;32m     38\u001b[0m             \u001b[38;5;124m\"\u001b[39m\u001b[38;5;124me991.e923.e222\u001b[39m\u001b[38;5;124m\"\u001b[39m\n\u001b[0;32m     39\u001b[0m         ],\n\u001b[0;32m     40\u001b[0m         \u001b[38;5;124m\"\u001b[39m\u001b[38;5;124mbackRefs\u001b[39m\u001b[38;5;124m\"\u001b[39m: \u001b[38;5;124m'\u001b[39m\u001b[38;5;124m'\u001b[39m,\n\u001b[0;32m     41\u001b[0m         \u001b[38;5;124m\"\u001b[39m\u001b[38;5;124mcacheFlag\u001b[39m\u001b[38;5;124m\"\u001b[39m: false,\n\u001b[0;32m     42\u001b[0m         \u001b[38;5;124m\"\u001b[39m\u001b[38;5;124muiResource\u001b[39m\u001b[38;5;124m\"\u001b[39m: {\n\u001b[0;32m     43\u001b[0m             \u001b[38;5;124m\"\u001b[39m\u001b[38;5;124mnodeCordinates\u001b[39m\u001b[38;5;124m\"\u001b[39m: {\n\u001b[0;32m     44\u001b[0m             \u001b[38;5;124m\"\u001b[39m\u001b[38;5;124mx\u001b[39m\u001b[38;5;124m\"\u001b[39m: \u001b[38;5;241m222\u001b[39m,\n\u001b[0;32m     45\u001b[0m             \u001b[38;5;124m\"\u001b[39m\u001b[38;5;124my\u001b[39m\u001b[38;5;124m\"\u001b[39m: \u001b[38;5;241m145\u001b[39m\n\u001b[0;32m     46\u001b[0m             },\n\u001b[0;32m     47\u001b[0m             \u001b[38;5;124m\"\u001b[39m\u001b[38;5;124mnodePic\u001b[39m\u001b[38;5;124m\"\u001b[39m: \u001b[38;5;124m\"\u001b[39m\u001b[38;5;124mURL of Pic \u001b[39m\u001b[38;5;124m\"\u001b[39m,\n\u001b[0;32m     48\u001b[0m             \u001b[38;5;124m\"\u001b[39m\u001b[38;5;124mnodeBg\u001b[39m\u001b[38;5;124m\"\u001b[39m: \u001b[38;5;124m\"\u001b[39m\u001b[38;5;124m#33243\u001b[39m\u001b[38;5;124m\"\u001b[39m,\n\u001b[0;32m     49\u001b[0m             \u001b[38;5;124m\"\u001b[39m\u001b[38;5;124mnodefg\u001b[39m\u001b[38;5;124m\"\u001b[39m: \u001b[38;5;124m\"\u001b[39m\u001b[38;5;124m#33243\u001b[39m\u001b[38;5;124m\"\u001b[39m\n\u001b[0;32m     50\u001b[0m         },\n\u001b[0;32m     51\u001b[0m         \u001b[38;5;124m\"\u001b[39m\u001b[38;5;124mchecks\u001b[39m\u001b[38;5;124m\"\u001b[39m: {\n\u001b[0;32m     52\u001b[0m             \u001b[38;5;124m\"\u001b[39m\u001b[38;5;124mprechecks\u001b[39m\u001b[38;5;124m\"\u001b[39m: [\n\u001b[0;32m     53\u001b[0m             \u001b[38;5;124m\"\u001b[39m\u001b[38;5;124mSignalFileCheck\u001b[39m\u001b[38;5;124m\"\u001b[39m,\n\u001b[0;32m     54\u001b[0m             \u001b[38;5;124m\"\u001b[39m\u001b[38;5;124mcheckSumCheck\u001b[39m\u001b[38;5;124m\"\u001b[39m,\n\u001b[0;32m     55\u001b[0m             \u001b[38;5;124m\"\u001b[39m\u001b[38;5;124menforceSchema\u001b[39m\u001b[38;5;124m\"\u001b[39m\n\u001b[0;32m     56\u001b[0m             ],\n\u001b[0;32m     57\u001b[0m             \u001b[38;5;124m\"\u001b[39m\u001b[38;5;124mpostChecks\u001b[39m\u001b[38;5;124m\"\u001b[39m: [\n\u001b[0;32m     58\u001b[0m             \u001b[38;5;124m\"\u001b[39m\u001b[38;5;124mdelay\u001b[39m\u001b[38;5;124m\"\u001b[39m,\n\u001b[0;32m     59\u001b[0m             \u001b[38;5;124m\"\u001b[39m\u001b[38;5;124memail|slack|text|whatsApp\u001b[39m\u001b[38;5;124m\"\u001b[39m,\n\u001b[0;32m     60\u001b[0m             \u001b[38;5;124m\"\u001b[39m\u001b[38;5;124mErrorFile\u001b[39m\u001b[38;5;124m\"\u001b[39m\n\u001b[0;32m     61\u001b[0m             ]\n\u001b[0;32m     62\u001b[0m         }\n\u001b[0;32m     63\u001b[0m         }\n\u001b[0;32m     64\u001b[0m     ]\n\u001b[0;32m     65\u001b[0m     }\n\u001b[0;32m     68\u001b[0m \u001b[38;5;66;03m# Create a Pandas DataFrame from the JSON data\u001b[39;00m\n\u001b[0;32m     69\u001b[0m df \u001b[38;5;241m=\u001b[39m pd\u001b[38;5;241m.\u001b[39mjson_normalize(data)\n",
      "\u001b[1;31mNameError\u001b[0m: name 'null' is not defined"
     ]
    }
   ],
   "source": [
    "\n",
    "from pandas import json_normalize\n",
    "\n",
    "# Sample JSON data\n",
    "data =     {\n",
    "    \"inputNode\": [\n",
    "        {\n",
    "        \"nodeType\": \"IN_SFTP\",\n",
    "        \"nodeName\": \"InvoiceFileDaily\",\n",
    "        \"nodeID\": \"e991.e923.e2t\",\n",
    "        \"fileFormat\": \"cvs|tsv|json\",\n",
    "        \"filename\": \"InvoiceDaily.csv\",\n",
    "        \"folder\": \"/sftp/incoming\",\n",
    "        \"connectString\": {\n",
    "            \"endPoint\": \"sftp://localhost\",\n",
    "            \"port\": \"2022\",\n",
    "            \"valutFlag\": \"true|false\",\n",
    "            \"userID\": \"chandanId\",\n",
    "            \"passwd\": \"bpt799\",\n",
    "            \"connName\": \"ContolCenterServer\"\n",
    "        },\n",
    "        \"inSchema\": '',\n",
    "        \"outSchema\": [\n",
    "            {\n",
    "            \"colname\": \"invoiceMonth\",\n",
    "            \"dataType\": \"String\",\n",
    "            \"nullable\": false,\n",
    "            \"maxLene\": \"\"\n",
    "            },\n",
    "            {\n",
    "            \"colname\": \"invoiceDate\",\n",
    "            \"dataType\": \"date\",\n",
    "            \"nullable\": true,\n",
    "            \"maxLene\": \"\"\n",
    "            }\n",
    "        ],\n",
    "        \"nextRefs\": [\n",
    "            \"e991.e923.e2t\",\n",
    "            \"e991.e923.e222\"\n",
    "        ],\n",
    "        \"backRefs\": '',\n",
    "        \"cacheFlag\": false,\n",
    "        \"uiResource\": {\n",
    "            \"nodeCordinates\": {\n",
    "            \"x\": 222,\n",
    "            \"y\": 145\n",
    "            },\n",
    "            \"nodePic\": \"URL of Pic \",\n",
    "            \"nodeBg\": \"#33243\",\n",
    "            \"nodefg\": \"#33243\"\n",
    "        },\n",
    "        \"checks\": {\n",
    "            \"prechecks\": [\n",
    "            \"SignalFileCheck\",\n",
    "            \"checkSumCheck\",\n",
    "            \"enforceSchema\"\n",
    "            ],\n",
    "            \"postChecks\": [\n",
    "            \"delay\",\n",
    "            \"email|slack|text|whatsApp\",\n",
    "            \"ErrorFile\"\n",
    "            ]\n",
    "        }\n",
    "        }\n",
    "    ]\n",
    "    }\n",
    "\n",
    "\n",
    "# Create a Pandas DataFrame from the JSON data\n",
    "df = pd.json_normalize(data)\n",
    "\n",
    "# Flatten nested columns using json_normalize\n",
    "df = json_normalize(data, sep='_')\n",
    "\n",
    "# Display the flattened DataFrame\n",
    "print(df)\n"
   ]
  },
  {
   "cell_type": "code",
   "execution_count": null,
   "id": "19110f7a-2a8e-4094-8599-c10302d39812",
   "metadata": {},
   "outputs": [],
   "source": []
  }
 ],
 "metadata": {
  "kernelspec": {
   "display_name": "Python 3 (ipykernel)",
   "language": "python",
   "name": "python3"
  },
  "language_info": {
   "codemirror_mode": {
    "name": "ipython",
    "version": 3
   },
   "file_extension": ".py",
   "mimetype": "text/x-python",
   "name": "python",
   "nbconvert_exporter": "python",
   "pygments_lexer": "ipython3",
   "version": "3.11.3"
  }
 },
 "nbformat": 4,
 "nbformat_minor": 5
}
