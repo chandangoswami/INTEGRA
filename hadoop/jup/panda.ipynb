{
 "cells": [
  {
   "cell_type": "code",
   "execution_count": 1,
   "id": "874b8e0f-e7e4-4788-b424-624f6d7d5439",
   "metadata": {},
   "outputs": [
    {
     "name": "stdout",
     "output_type": "stream",
     "text": [
      "Requirement already satisfied: pandas in c:\\users\\chand\\desktop\\integra_soft\\integar_code_mvp\\dock\\integra\\hadoop\\jup\\lab\\lib\\site-packages (2.1.0)\n",
      "Requirement already satisfied: numpy>=1.23.2 in c:\\users\\chand\\desktop\\integra_soft\\integar_code_mvp\\dock\\integra\\hadoop\\jup\\lab\\lib\\site-packages (from pandas) (1.25.2)\n",
      "Requirement already satisfied: python-dateutil>=2.8.2 in c:\\users\\chand\\desktop\\integra_soft\\integar_code_mvp\\dock\\integra\\hadoop\\jup\\lab\\lib\\site-packages (from pandas) (2.8.2)\n",
      "Requirement already satisfied: pytz>=2020.1 in c:\\users\\chand\\desktop\\integra_soft\\integar_code_mvp\\dock\\integra\\hadoop\\jup\\lab\\lib\\site-packages (from pandas) (2023.3.post1)\n",
      "Requirement already satisfied: tzdata>=2022.1 in c:\\users\\chand\\desktop\\integra_soft\\integar_code_mvp\\dock\\integra\\hadoop\\jup\\lab\\lib\\site-packages (from pandas) (2023.3)\n",
      "Requirement already satisfied: six>=1.5 in c:\\users\\chand\\desktop\\integra_soft\\integar_code_mvp\\dock\\integra\\hadoop\\jup\\lab\\lib\\site-packages (from python-dateutil>=2.8.2->pandas) (1.16.0)\n"
     ]
    }
   ],
   "source": [
    "! pip install pandas \n",
    "import pandas as pd"
   ]
  },
  {
   "cell_type": "code",
   "execution_count": 17,
   "id": "2c302364-06b3-408d-bed4-af5bc764c3ad",
   "metadata": {},
   "outputs": [
    {
     "ename": "KeyError",
     "evalue": "'nodeName'",
     "output_type": "error",
     "traceback": [
      "\u001b[1;31m-----------------------------------------------------------------\u001b[0m",
      "\u001b[1;31mKeyError\u001b[0m                        Traceback (most recent call last)",
      "File \u001b[1;32m~\\Desktop\\Integra_soft\\INTEGAR_CODE_MVP\\Dock\\INTEGRA\\hadoop\\jup\\lab\\Lib\\site-packages\\pandas\\core\\indexes\\base.py:3790\u001b[0m, in \u001b[0;36mIndex.get_loc\u001b[1;34m(self, key)\u001b[0m\n\u001b[0;32m   3789\u001b[0m \u001b[38;5;28;01mtry\u001b[39;00m:\n\u001b[1;32m-> 3790\u001b[0m     \u001b[38;5;28;01mreturn\u001b[39;00m \u001b[38;5;28;43mself\u001b[39;49m\u001b[38;5;241;43m.\u001b[39;49m\u001b[43m_engine\u001b[49m\u001b[38;5;241;43m.\u001b[39;49m\u001b[43mget_loc\u001b[49m\u001b[43m(\u001b[49m\u001b[43mcasted_key\u001b[49m\u001b[43m)\u001b[49m\n\u001b[0;32m   3791\u001b[0m \u001b[38;5;28;01mexcept\u001b[39;00m \u001b[38;5;167;01mKeyError\u001b[39;00m \u001b[38;5;28;01mas\u001b[39;00m err:\n",
      "File \u001b[1;32mindex.pyx:152\u001b[0m, in \u001b[0;36mpandas._libs.index.IndexEngine.get_loc\u001b[1;34m()\u001b[0m\n",
      "File \u001b[1;32mindex.pyx:181\u001b[0m, in \u001b[0;36mpandas._libs.index.IndexEngine.get_loc\u001b[1;34m()\u001b[0m\n",
      "File \u001b[1;32mpandas\\_libs\\hashtable_class_helper.pxi:7080\u001b[0m, in \u001b[0;36mpandas._libs.hashtable.PyObjectHashTable.get_item\u001b[1;34m()\u001b[0m\n",
      "File \u001b[1;32mpandas\\_libs\\hashtable_class_helper.pxi:7088\u001b[0m, in \u001b[0;36mpandas._libs.hashtable.PyObjectHashTable.get_item\u001b[1;34m()\u001b[0m\n",
      "\u001b[1;31mKeyError\u001b[0m: 'nodeName'",
      "\nThe above exception was the direct cause of the following exception:\n",
      "\u001b[1;31mKeyError\u001b[0m                        Traceback (most recent call last)",
      "Cell \u001b[1;32mIn[17], line 75\u001b[0m\n\u001b[0;32m     72\u001b[0m df \u001b[38;5;241m=\u001b[39m json_normalize(data, sep\u001b[38;5;241m=\u001b[39m\u001b[38;5;124m'\u001b[39m\u001b[38;5;124m_\u001b[39m\u001b[38;5;124m'\u001b[39m)\n\u001b[0;32m     74\u001b[0m \u001b[38;5;66;03m# Display the flattened DataFrame\u001b[39;00m\n\u001b[1;32m---> 75\u001b[0m \u001b[38;5;28mprint\u001b[39m(\u001b[43mdf\u001b[49m\u001b[43m[\u001b[49m\u001b[38;5;124;43m'\u001b[39;49m\u001b[38;5;124;43mnodeName\u001b[39;49m\u001b[38;5;124;43m'\u001b[39;49m\u001b[43m]\u001b[49m)\n",
      "File \u001b[1;32m~\\Desktop\\Integra_soft\\INTEGAR_CODE_MVP\\Dock\\INTEGRA\\hadoop\\jup\\lab\\Lib\\site-packages\\pandas\\core\\frame.py:3896\u001b[0m, in \u001b[0;36mDataFrame.__getitem__\u001b[1;34m(self, key)\u001b[0m\n\u001b[0;32m   3894\u001b[0m \u001b[38;5;28;01mif\u001b[39;00m \u001b[38;5;28mself\u001b[39m\u001b[38;5;241m.\u001b[39mcolumns\u001b[38;5;241m.\u001b[39mnlevels \u001b[38;5;241m>\u001b[39m \u001b[38;5;241m1\u001b[39m:\n\u001b[0;32m   3895\u001b[0m     \u001b[38;5;28;01mreturn\u001b[39;00m \u001b[38;5;28mself\u001b[39m\u001b[38;5;241m.\u001b[39m_getitem_multilevel(key)\n\u001b[1;32m-> 3896\u001b[0m indexer \u001b[38;5;241m=\u001b[39m \u001b[38;5;28;43mself\u001b[39;49m\u001b[38;5;241;43m.\u001b[39;49m\u001b[43mcolumns\u001b[49m\u001b[38;5;241;43m.\u001b[39;49m\u001b[43mget_loc\u001b[49m\u001b[43m(\u001b[49m\u001b[43mkey\u001b[49m\u001b[43m)\u001b[49m\n\u001b[0;32m   3897\u001b[0m \u001b[38;5;28;01mif\u001b[39;00m is_integer(indexer):\n\u001b[0;32m   3898\u001b[0m     indexer \u001b[38;5;241m=\u001b[39m [indexer]\n",
      "File \u001b[1;32m~\\Desktop\\Integra_soft\\INTEGAR_CODE_MVP\\Dock\\INTEGRA\\hadoop\\jup\\lab\\Lib\\site-packages\\pandas\\core\\indexes\\base.py:3797\u001b[0m, in \u001b[0;36mIndex.get_loc\u001b[1;34m(self, key)\u001b[0m\n\u001b[0;32m   3792\u001b[0m     \u001b[38;5;28;01mif\u001b[39;00m \u001b[38;5;28misinstance\u001b[39m(casted_key, \u001b[38;5;28mslice\u001b[39m) \u001b[38;5;129;01mor\u001b[39;00m (\n\u001b[0;32m   3793\u001b[0m         \u001b[38;5;28misinstance\u001b[39m(casted_key, abc\u001b[38;5;241m.\u001b[39mIterable)\n\u001b[0;32m   3794\u001b[0m         \u001b[38;5;129;01mand\u001b[39;00m \u001b[38;5;28many\u001b[39m(\u001b[38;5;28misinstance\u001b[39m(x, \u001b[38;5;28mslice\u001b[39m) \u001b[38;5;28;01mfor\u001b[39;00m x \u001b[38;5;129;01min\u001b[39;00m casted_key)\n\u001b[0;32m   3795\u001b[0m     ):\n\u001b[0;32m   3796\u001b[0m         \u001b[38;5;28;01mraise\u001b[39;00m InvalidIndexError(key)\n\u001b[1;32m-> 3797\u001b[0m     \u001b[38;5;28;01mraise\u001b[39;00m \u001b[38;5;167;01mKeyError\u001b[39;00m(key) \u001b[38;5;28;01mfrom\u001b[39;00m \u001b[38;5;21;01merr\u001b[39;00m\n\u001b[0;32m   3798\u001b[0m \u001b[38;5;28;01mexcept\u001b[39;00m \u001b[38;5;167;01mTypeError\u001b[39;00m:\n\u001b[0;32m   3799\u001b[0m     \u001b[38;5;66;03m# If we have a listlike key, _check_indexing_error will raise\u001b[39;00m\n\u001b[0;32m   3800\u001b[0m     \u001b[38;5;66;03m#  InvalidIndexError. Otherwise we fall through and re-raise\u001b[39;00m\n\u001b[0;32m   3801\u001b[0m     \u001b[38;5;66;03m#  the TypeError.\u001b[39;00m\n\u001b[0;32m   3802\u001b[0m     \u001b[38;5;28mself\u001b[39m\u001b[38;5;241m.\u001b[39m_check_indexing_error(key)\n",
      "\u001b[1;31mKeyError\u001b[0m: 'nodeName'"
     ]
    }
   ],
   "source": [
    "\n",
    "from pandas import json_normalize\n",
    "\n",
    "# Sample JSON data\n",
    "data =     {\n",
    "    \"inputNode\": [\n",
    "        {\n",
    "        \"nodeType\": \"IN_SFTP\",\n",
    "        \"nodeName\": \"InvoiceFileDaily\",\n",
    "        \"nodeID\": \"e991.e923.e2t\",\n",
    "        \"fileFormat\": \"cvs|tsv|json\",\n",
    "        \"filename\": \"InvoiceDaily.csv\",\n",
    "        \"folder\": \"/sftp/incoming\",\n",
    "        \"connectString\": {\n",
    "            \"endPoint\": \"sftp://localhost\",\n",
    "            \"port\": \"2022\",\n",
    "            \"valutFlag\": \"true|False\",\n",
    "            \"userID\": \"chandanId\",\n",
    "            \"passwd\": \"bpt799\",\n",
    "            \"connName\": \"ContolCenterServer\"\n",
    "        },\n",
    "        \"inSchema\": '',\n",
    "        \"outSchema\": [\n",
    "            {\n",
    "            \"colname\": \"invoiceMonth\",\n",
    "            \"dataType\": \"String\",\n",
    "            \"nullable\": False,\n",
    "            \"maxLene\": \"\"\n",
    "            },\n",
    "            {\n",
    "            \"colname\": \"invoiceDate\",\n",
    "            \"dataType\": \"date\",\n",
    "            \"nullable\": True,\n",
    "            \"maxLene\": \"\"\n",
    "            }\n",
    "        ],\n",
    "        \"nextRefs\": [\n",
    "            \"e991.e923.e2t\",\n",
    "            \"e991.e923.e222\"\n",
    "        ],\n",
    "        \"backRefs\": '',\n",
    "        \"cacheFlag\": False,\n",
    "        \"uiResource\": {\n",
    "            \"nodeCordinates\": {\n",
    "            \"x\": 222,\n",
    "            \"y\": 145\n",
    "            },\n",
    "            \"nodePic\": \"URL of Pic \",\n",
    "            \"nodeBg\": \"#33243\",\n",
    "            \"nodefg\": \"#33243\"\n",
    "        },\n",
    "        \"checks\": {\n",
    "            \"prechecks\": [\n",
    "            \"SignalFileCheck\",\n",
    "            \"checkSumCheck\",\n",
    "            \"enforceSchema\"\n",
    "            ],\n",
    "            \"postChecks\": [\n",
    "            \"delay\",\n",
    "            \"email|slack|text|whatsApp\",\n",
    "            \"ErrorFile\"\n",
    "            ]\n",
    "        }\n",
    "        }\n",
    "    ]\n",
    "    }\n",
    "\n",
    "\n",
    "# Create a Pandas DataFrame from the JSON data\n",
    "df = pd.json_normalize(data)\n",
    "\n",
    "# Flatten nested columns using json_normalize\n",
    "df = json_normalize(data, sep='_')\n",
    "\n",
    "# Display the flattened DataFrame\n",
    "print(df['nodeName'])\n"
   ]
  },
  {
   "cell_type": "code",
   "execution_count": null,
   "id": "19110f7a-2a8e-4094-8599-c10302d39812",
   "metadata": {},
   "outputs": [],
   "source": []
  }
 ],
 "metadata": {
  "kernelspec": {
   "display_name": "Python 3 (ipykernel)",
   "language": "python",
   "name": "python3"
  },
  "language_info": {
   "codemirror_mode": {
    "name": "ipython",
    "version": 3
   },
   "file_extension": ".py",
   "mimetype": "text/x-python",
   "name": "python",
   "nbconvert_exporter": "python",
   "pygments_lexer": "ipython3",
   "version": "3.11.3"
  }
 },
 "nbformat": 4,
 "nbformat_minor": 5
}
