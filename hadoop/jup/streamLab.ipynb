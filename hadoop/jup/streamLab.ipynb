{
 "cells": [
  {
   "cell_type": "code",
   "execution_count": 1,
   "id": "485d0397-4584-400a-8171-4d00c3de34dc",
   "metadata": {},
   "outputs": [],
   "source": [
    "from pyspark.sql import SparkSession \n",
    "from pyspark.sql.types import StructType, StructField, StringType ,ArrayType , BooleanType , LongType\n",
    "from pyspark.sql.functions import explode\n",
    "import json"
   ]
  },
  {
   "cell_type": "code",
   "execution_count": 2,
   "id": "9b99036f-6d1b-4352-b04f-91cc0f51ef58",
   "metadata": {},
   "outputs": [],
   "source": [
    "spark = SparkSession.builder.appName('STREAM').master('local[3]').getOrCreate()"
   ]
  },
  {
   "cell_type": "code",
   "execution_count": 14,
   "id": "c73534a2-f3a8-469d-89b4-6b71f35fe91a",
   "metadata": {},
   "outputs": [],
   "source": [
    "    \n",
    "    inputNode_schema = StructType([\n",
    "        StructField('inputNode', ArrayType(StructType([\n",
    "            StructField('backRefs', StringType(), True),\n",
    "            StructField('cacheFlag', BooleanType(), True),\n",
    "            StructField('checks', StructType([\n",
    "                StructField('postChecks', ArrayType(StringType(), True), True),\n",
    "                StructField('prechecks', ArrayType(StringType(), True), True)]), True),\n",
    "            StructField('connectString', StructType([\n",
    "                StructField('connName', StringType(), True),\n",
    "                StructField('endPoint', StringType(), True), \n",
    "                StructField('passwd', StringType(), True), \n",
    "                StructField('port', StringType(), True),\n",
    "                StructField('userID', StringType(), True), \n",
    "                StructField('valutFlag', StringType(), True)]), True),\n",
    "            StructField('fileFormat', StringType(), True), \n",
    "            StructField('filename', StringType(), True), \n",
    "            StructField('folder', StringType(), True), \n",
    "            StructField('inSchema', StringType(), True), \n",
    "            StructField('nextRefs', ArrayType(StringType(), True), True),\n",
    "            StructField('nodeID', StringType(), True), \n",
    "            StructField('nodeName', StringType(), True),\n",
    "            StructField('nodeType', StringType(), True), \n",
    "            StructField('outSchema', ArrayType(StructType([\n",
    "                StructField('colname', StringType(), True), \n",
    "                StructField('dataType', StringType(), True),\n",
    "                StructField('maxLene', StringType(), True),\n",
    "                StructField('nullable', BooleanType(), True)]), True), True),\n",
    "            StructField('uiResource', StructType([\n",
    "                StructField('nodeBg', StringType(), True), \n",
    "                StructField('nodeCordinates', StructType([\n",
    "                    StructField('x', LongType(), True), \n",
    "                    StructField('y', LongType(), True)]), True),\n",
    "                StructField('nodePic', StringType(), True),\n",
    "                StructField('nodefg', StringType(), True)]), True)]), True), True)])\n",
    "\n",
    "    flow_schema =  StructType ([\n",
    "    StructField(\"wfName\",StringType(),True),\n",
    "    StructField(\"wfType\",StringType(),True),\n",
    "    StructField(\"wfId\",StringType(),True),\n",
    "    StructField(\"ver\",StringType(),True),\n",
    "    StructField(\"create_date\",StringType(),True),\n",
    "    StructField(\"modified_date\",StringType(),True),\n",
    "    StructField(\"trigger\",StringType(),True) ,\n",
    "    StructField(\"functionNode\",StringType(),True),\n",
    "    StructField(\"outputNode\",StringType(),True)\n",
    "    ]) \n",
    " "
   ]
  },
  {
   "cell_type": "code",
   "execution_count": 32,
   "id": "5466cb38-ecf1-4ade-9fea-7de3d2a09654",
   "metadata": {},
   "outputs": [
    {
     "name": "stdout",
     "output_type": "stream",
     "text": [
      "+----------------------------------------------------------------------------------------------------------------------------------------------------------------------------------------------------------------------------------------------------------------------------------------------------------------------------------------------------------------------------------------------------------------------------------------+\n",
      "|col                                                                                                                                                                                                                                                                                                                                                                                                                                     |\n",
      "+----------------------------------------------------------------------------------------------------------------------------------------------------------------------------------------------------------------------------------------------------------------------------------------------------------------------------------------------------------------------------------------------------------------------------------------+\n",
      "|{null, false, {[delay, email|slack|text|whatsApp, ErrorFile], [SignalFileCheck, checkSumCheck, enforceSchema]}, {ContolCenterServer, sftp://localhost, bpt799, 2022, chandanId, true|false}, cvs|tsv|json, InvoiceDaily.csv, /sftp/incoming, null, [e991.e923.e2t, e991.e923.e222], e991.e923.e2t, InvoiceFileDaily, IN_SFTP, [{invoiceMonth, String, , false}, {invoiceDate, date, , true}], {#33243, {222, 145}, URL of Pic , #33243}}|\n",
      "+----------------------------------------------------------------------------------------------------------------------------------------------------------------------------------------------------------------------------------------------------------------------------------------------------------------------------------------------------------------------------------------------------------------------------------------+\n",
      "\n"
     ]
    }
   ],
   "source": [
    "#df = spark.read.schema(flow_schema).json('flowMetaFormat.json', multiLine=True )\n",
    "df = spark.read.format('json')\\\n",
    "           .option(\"multiline\",\"true\")\\\n",
    "           .schema(inputNode_schema) \\\n",
    "           .load('inputNode.json')\n",
    "\n",
    "#df.printSchema() \n",
    "df2=df.select( explode('inputNode') )\n",
    "df2.show(truncate=False) "
   ]
  },
  {
   "cell_type": "code",
   "execution_count": 8,
   "id": "091a5d16-2596-4268-a3ff-492ad16459f5",
   "metadata": {},
   "outputs": [],
   "source": [
    "df = spark.read.format('json')\\\n",
    "           .option(\"multiline\",\"true\")\\\n",
    "           .schema(flow_schema) \\\n",
    "           .load('flowMetaFormat.json')"
   ]
  },
  {
   "cell_type": "code",
   "execution_count": 10,
   "id": "8ccaaca1-3bd8-4fd7-acb9-7c36809cedc3",
   "metadata": {},
   "outputs": [
    {
     "name": "stdout",
     "output_type": "stream",
     "text": [
      "+-------------------+----------+---------+-------+-----------+-------------+------------------+--------------------+--------------------+\n",
      "|             wfName|    wfType|     wfId|    ver|create_date|modified_date|           trigger|        functionNode|          outputNode|\n",
      "+-------------------+----------+---------+-------+-----------+-------------+------------------+--------------------+--------------------+\n",
      "|2223 Invoice Daily |WF|WF_CONN|e923.4232|#6ea563|  993324002|   9324292342|Event|Schedul|null|[{\"nodeType\":\"FUN...|[{\"nodeType\":\"OUT...|\n",
      "+-------------------+----------+---------+-------+-----------+-------------+------------------+--------------------+--------------------+\n",
      "\n"
     ]
    }
   ],
   "source": [
    "df.select('*').show()"
   ]
  },
  {
   "cell_type": "code",
   "execution_count": 48,
   "id": "acbe4f42-3f3a-422a-be8e-b3f1b3a2b01b",
   "metadata": {},
   "outputs": [
    {
     "name": "stdout",
     "output_type": "stream",
     "text": [
      "root\n",
      " |-- col: struct (nullable = true)\n",
      " |    |-- backRefs: string (nullable = true)\n",
      " |    |-- cacheFlag: boolean (nullable = true)\n",
      " |    |-- checks: struct (nullable = true)\n",
      " |    |    |-- postChecks: array (nullable = true)\n",
      " |    |    |    |-- element: string (containsNull = true)\n",
      " |    |    |-- prechecks: array (nullable = true)\n",
      " |    |    |    |-- element: string (containsNull = true)\n",
      " |    |-- connectString: struct (nullable = true)\n",
      " |    |    |-- connName: string (nullable = true)\n",
      " |    |    |-- endPoint: string (nullable = true)\n",
      " |    |    |-- oAuth: struct (nullable = true)\n",
      " |    |    |    |-- accessTokStr: string (nullable = true)\n",
      " |    |    |    |-- clientID: string (nullable = true)\n",
      " |    |    |    |-- clientSecret: string (nullable = true)\n",
      " |    |    |    |-- oAuthUrl: string (nullable = true)\n",
      " |    |    |    |-- valutFlag: string (nullable = true)\n",
      " |    |    |-- passwd: string (nullable = true)\n",
      " |    |    |-- port: string (nullable = true)\n",
      " |    |    |-- uri: string (nullable = true)\n",
      " |    |    |-- userID: string (nullable = true)\n",
      " |    |    |-- valutFlag: string (nullable = true)\n",
      " |    |-- fileFormat: string (nullable = true)\n",
      " |    |-- filename: string (nullable = true)\n",
      " |    |-- folder: string (nullable = true)\n",
      " |    |-- inSchema: string (nullable = true)\n",
      " |    |-- nextRefs: array (nullable = true)\n",
      " |    |    |-- element: string (containsNull = true)\n",
      " |    |-- nodeBg: string (nullable = true)\n",
      " |    |-- nodeID: string (nullable = true)\n",
      " |    |-- nodeName: string (nullable = true)\n",
      " |    |-- nodePic: string (nullable = true)\n",
      " |    |-- nodeType: string (nullable = true)\n",
      " |    |-- nodefg: string (nullable = true)\n",
      " |    |-- outSchema: array (nullable = true)\n",
      " |    |    |-- element: struct (containsNull = true)\n",
      " |    |    |    |-- colname: string (nullable = true)\n",
      " |    |    |    |-- dataType: string (nullable = true)\n",
      " |    |    |    |-- maxLene: string (nullable = true)\n",
      " |    |    |    |-- nullable: boolean (nullable = true)\n",
      " |    |-- request: struct (nullable = true)\n",
      " |    |    |-- body: array (nullable = true)\n",
      " |    |    |    |-- element: struct (containsNull = true)\n",
      " |    |    |    |    |-- k1: string (nullable = true)\n",
      " |    |    |    |    |-- k2: string (nullable = true)\n",
      " |    |    |    |    |-- k3: string (nullable = true)\n",
      " |    |    |-- header: array (nullable = true)\n",
      " |    |    |    |-- element: struct (containsNull = true)\n",
      " |    |    |    |    |-- access_token: string (nullable = true)\n",
      " |    |    |    |    |-- content-type: string (nullable = true)\n",
      " |    |    |-- pagination: struct (nullable = true)\n",
      " |    |    |    |-- MaxPageSize: long (nullable = true)\n",
      " |    |    |    |-- startPageNo: long (nullable = true)\n",
      " |    |    |    |-- terminationCond: string (nullable = true)\n",
      " |    |    |-- params: array (nullable = true)\n",
      " |    |    |    |-- element: struct (containsNull = true)\n",
      " |    |    |    |    |-- k1: string (nullable = true)\n",
      " |    |    |    |    |-- k2: string (nullable = true)\n",
      " |    |    |    |    |-- k3: string (nullable = true)\n",
      " |    |-- sqlQuery: string (nullable = true)\n",
      " |    |-- tableName: string (nullable = true)\n",
      " |    |-- tableSpace: string (nullable = true)\n",
      " |    |-- uiResource: struct (nullable = true)\n",
      " |    |    |-- nodeBg: string (nullable = true)\n",
      " |    |    |-- nodeCordinates: struct (nullable = true)\n",
      " |    |    |    |-- x: long (nullable = true)\n",
      " |    |    |    |-- y: long (nullable = true)\n",
      " |    |    |-- nodePic: string (nullable = true)\n",
      " |    |    |-- nodefg: string (nullable = true)\n",
      "\n"
     ]
    }
   ],
   "source": [
    "indf = df1.select['"
   ]
  }
 ],
 "metadata": {
  "kernelspec": {
   "display_name": "Python 3 (ipykernel)",
   "language": "python",
   "name": "python3"
  },
  "language_info": {
   "codemirror_mode": {
    "name": "ipython",
    "version": 3
   },
   "file_extension": ".py",
   "mimetype": "text/x-python",
   "name": "python",
   "nbconvert_exporter": "python",
   "pygments_lexer": "ipython3",
   "version": "3.11.3"
  }
 },
 "nbformat": 4,
 "nbformat_minor": 5
}
